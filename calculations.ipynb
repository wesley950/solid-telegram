{
 "cells": [
  {
   "cell_type": "markdown",
   "metadata": {},
   "source": [
    "# Cálculos\n",
    "\n",
    "Podemos usar este caderno para calcular algumas estatísticas a respeito dos dados compilados."
   ]
  },
  {
   "cell_type": "code",
   "execution_count": 4,
   "metadata": {},
   "outputs": [
    {
     "name": "stdout",
     "output_type": "stream",
     "text": [
      "   station       date  monthly_total  sub_basin  latitude  longitude    name  \\\n",
      "0  1036005 2024-01-10           41.1         49   -10.285   -36.5564  Penedo   \n",
      "1  1036005 2024-01-09           23.8         49   -10.285   -36.5564  Penedo   \n",
      "2  1036005 2024-01-08           48.6         49   -10.285   -36.5564  Penedo   \n",
      "3  1036005 2024-01-07          164.2         49   -10.285   -36.5564  Penedo   \n",
      "4  1036005 2024-01-06          257.6         49   -10.285   -36.5564  Penedo   \n",
      "\n",
      "     state municipality  \n",
      "0  Alagoas       Penedo  \n",
      "1  Alagoas       Penedo  \n",
      "2  Alagoas       Penedo  \n",
      "3  Alagoas       Penedo  \n",
      "4  Alagoas       Penedo  \n",
      "station                   int64\n",
      "date             datetime64[ns]\n",
      "monthly_total           float64\n",
      "sub_basin                 int64\n",
      "latitude                float64\n",
      "longitude               float64\n",
      "name                     object\n",
      "state                    object\n",
      "municipality             object\n",
      "dtype: object\n"
     ]
    }
   ],
   "source": [
    "# load the events\n",
    "\n",
    "import pandas as pd\n",
    "\n",
    "df = pd.read_csv(\"chuvas.csv\", encoding=\"latin1\", parse_dates=[\"date\"])\n",
    "print(df.head())\n",
    "print(df.dtypes)"
   ]
  },
  {
   "cell_type": "markdown",
   "metadata": {},
   "source": [
    "Aqui calculamos as precipitações anuais por sub-bacia e ao longo de toda a bacia do São Francisco usando médias simples."
   ]
  },
  {
   "cell_type": "code",
   "execution_count": 5,
   "metadata": {},
   "outputs": [
    {
     "name": "stdout",
     "output_type": "stream",
     "text": [
      "   sub_basin  year       total\n",
      "0         40  2004  148.679736\n",
      "1         40  2005  134.404148\n",
      "2         40  2006  127.906127\n",
      "3         40  2007  112.834586\n",
      "4         40  2008  169.484211\n",
      "   year       total\n",
      "0  2004  138.677304\n",
      "1  2005  118.910801\n",
      "2  2006  100.916377\n",
      "3  2007   96.485333\n",
      "4  2008  133.728768\n"
     ]
    }
   ],
   "source": [
    "# calculate yearly totals of sub basins\n",
    "df[\"year\"] = df[\"date\"].dt.year\n",
    "df_annual = df.groupby([\"sub_basin\", \"year\"])[\"monthly_total\"].mean().reset_index()\n",
    "df_annual.columns = [\"sub_basin\", \"year\", \"total\"]\n",
    "\n",
    "# export to csv\n",
    "df_annual.to_csv(\"chuvas_anual.csv\", index=False)\n",
    "\n",
    "print(df_annual.head())\n",
    "\n",
    "# calculate yearly totals of all basins\n",
    "df_annual_all = df.groupby(\"year\")[\"monthly_total\"].mean().reset_index()\n",
    "df_annual_all.columns = [\"year\", \"total\"]\n",
    "\n",
    "print(df_annual_all.head())\n",
    "\n",
    "# export to csv\n",
    "df_annual_all.to_csv(\"chuvas_anual_all.csv\", index=False)"
   ]
  },
  {
   "cell_type": "markdown",
   "metadata": {},
   "source": [
    "Após calcular os totais anuais, ainda podemos extrair algumas estatísticas do nosso banco de dados. Como anos mais chuvosos e secos de cada sub-bacia e ao longo de toda a bacia."
   ]
  },
  {
   "cell_type": "code",
   "execution_count": 20,
   "metadata": {},
   "outputs": [
    {
     "name": "stdout",
     "output_type": "stream",
     "text": [
      "Wettest year: 2021.0 with 209.68444444444444 mm\n",
      "Driest year: 2012.0 with 22.453521126760563 mm\n",
      "\n",
      "Wettest years by sub basin:\n",
      "     sub_basin  year       total   variation\n",
      "4           40  2008  169.484211   50.205904\n",
      "28          41  2011  169.005670   36.971916\n",
      "62          42  2024  195.520482  108.980742\n",
      "80          43  2021  209.684444   45.332066\n",
      "101         44  2021  154.093846   19.807372\n",
      "122         45  2021  157.518310   10.693541\n",
      "146         46  2024  190.120408  180.108379\n",
      "147         47  2004  101.443421         NaN\n",
      "168         48  2004   83.598276         NaN\n",
      "207         49  2022   95.773636   34.438007\n",
      "\n",
      "Driest years by sub basin:\n",
      "     sub_basin  year      total  variation\n",
      "10          40  2014  70.535446 -41.357627\n",
      "31          41  2014  63.980269 -52.231016\n",
      "61          42  2023  93.559091 -39.109083\n",
      "74          43  2015  73.045098 -31.533593\n",
      "95          44  2015  49.671631 -18.763176\n",
      "124         45  2023  62.228395 -53.161561\n",
      "145         46  2023  67.873874 -45.771773\n",
      "158         47  2015  36.081538 -16.536114\n",
      "176         48  2012  22.453521 -52.632265\n",
      "197         49  2012  36.322929 -51.475845\n"
     ]
    }
   ],
   "source": [
    "# calculate a bunch of statistics\n",
    "\n",
    "wettest_year = df_annual.loc[df_annual[\"total\"].idxmax()]\n",
    "driest_year = df_annual.loc[df_annual[\"total\"].idxmin()]\n",
    "\n",
    "print(f'Wettest year: {wettest_year[\"year\"]} with {wettest_year[\"total\"]} mm')\n",
    "print(f'Driest year: {driest_year[\"year\"]} with {driest_year[\"total\"]} mm')\n",
    "\n",
    "sub_basin_wettest_year = df_annual.loc[df_annual.groupby(\"sub_basin\")[\"total\"].idxmax()]\n",
    "sub_basin_driest_year = df_annual.loc[df_annual.groupby(\"sub_basin\")[\"total\"].idxmin()]\n",
    "\n",
    "print(\"\")\n",
    "\n",
    "print(f\"Wettest years by sub basin:\")\n",
    "print(sub_basin_wettest_year)\n",
    "\n",
    "print(\"\")\n",
    "\n",
    "print(f\"Driest years by sub basin:\")\n",
    "print(sub_basin_driest_year)\n"
   ]
  }
 ],
 "metadata": {
  "kernelspec": {
   "display_name": ".venv",
   "language": "python",
   "name": "python3"
  },
  "language_info": {
   "codemirror_mode": {
    "name": "ipython",
    "version": 3
   },
   "file_extension": ".py",
   "mimetype": "text/x-python",
   "name": "python",
   "nbconvert_exporter": "python",
   "pygments_lexer": "ipython3",
   "version": "3.12.3"
  }
 },
 "nbformat": 4,
 "nbformat_minor": 2
}
